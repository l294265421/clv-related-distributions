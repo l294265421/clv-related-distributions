{
 "cells": [
  {
   "cell_type": "code",
   "execution_count": 1,
   "metadata": {},
   "outputs": [],
   "source": [
    "import sys\n",
    "import random\n",
    "import collections\n",
    "import matplotlib.pyplot as plt"
   ]
  },
  {
   "cell_type": "code",
   "execution_count": 2,
   "metadata": {},
   "outputs": [],
   "source": [
    "class Poisson:\n",
    "    \"\"\"\n",
    "    泊松分布的仿真及可视化 https://www.luochang.ink/posts/poisson/\n",
    "    \"\"\"\n",
    "    def __init__(self, rate=20, exp_num=100000, num_level=2):\n",
    "        self.rate = int(rate)\n",
    "\n",
    "        self.time = 1  # 单位时间\n",
    "\n",
    "        self.EXP_NUM = exp_num  # 实验次数\n",
    "        self.NUM_LEVEL = num_level  # 数量级\n",
    "\n",
    "    def generator(self, prob):\n",
    "        \"\"\"仿真结果生成器\"\"\"\n",
    "        while True:\n",
    "            if random.random() < prob:\n",
    "                yield 1\n",
    "            else:\n",
    "                yield 0\n",
    "\n",
    "    def perform_exp(self, rate, time):\n",
    "        \"\"\"进行一次实验\n",
    "        每次实验中，时间分片的数量比rate高两个数量级\n",
    "        \"\"\"\n",
    "        level = len(str(rate))\n",
    "        shard_num = 10 ** (level + self.NUM_LEVEL)  # 计算时间分片的数量\n",
    "\n",
    "        gen = self.generator(rate / shard_num)\n",
    "\n",
    "        cnt = 0\n",
    "        for _ in range(time * shard_num):\n",
    "            cnt += next(gen)\n",
    "\n",
    "        return cnt\n",
    "\n",
    "    def perform_exps(self, exp_num, rate, time):\n",
    "        \"\"\"多次实验，得到分布\"\"\"\n",
    "        lst = []\n",
    "        for _ in range(exp_num):\n",
    "            lst.append(self.perform_exp(rate, time))\n",
    "\n",
    "        return sorted(collections.Counter(lst).items(), key=lambda e: e[0])\n",
    "\n",
    "    def draw(self, sorted_list):\n",
    "        \"\"\"画图\"\"\"\n",
    "        s = sum([e[1] for e in sorted_list])\n",
    "        x = [e[0] for e in sorted_list]\n",
    "        y = [e[1] / s for e in sorted_list]\n",
    "\n",
    "        plt.plot(x, y)\n",
    "\n",
    "        plt.xlabel(\"k\")\n",
    "        plt.ylabel(\"P(k)\")\n",
    "        plt.show()\n",
    "\n",
    "    def main(self):\n",
    "        sorted_list = self.perform_exps(self.EXP_NUM, self.rate, self.time)\n",
    "        self.draw(sorted_list)\n",
    "\n",
    "    @staticmethod\n",
    "    def calculator(rate, t, k):\n",
    "        \"\"\"用于计算泊松函数的概率 P(k|t,lambda)\n",
    "           rate: lambda\n",
    "           t: t\n",
    "           k: k\n",
    "        \"\"\"\n",
    "        import math\n",
    "        return (rate * t) ** k / math.factorial(k) * math.exp(-rate * t)\n"
   ]
  },
  {
   "cell_type": "code",
   "execution_count": 3,
   "metadata": {},
   "outputs": [
    {
     "data": {
      "image/png": "[encoded data removed]",
      "text/plain": [
       "<Figure size 432x288 with 1 Axes>"
      ]
     },
     "metadata": {
      "needs_background": "light"
     },
     "output_type": "display_data"
    }
   ],
   "source": [
    "p = Poisson(exp_num=1000)\n",
    "p.main()"
   ]
  },
  {
   "cell_type": "code",
   "execution_count": null,
   "metadata": {},
   "outputs": [],
   "source": []
  }
 ],
 "metadata": {
  "kernelspec": {
   "display_name": "Python 3",
   "language": "python",
   "name": "python3"
  },
  "language_info": {
   "codemirror_mode": {
    "name": "ipython",
    "version": 3
   },
   "file_extension": ".py",
   "mimetype": "text/x-python",
   "name": "python",
   "nbconvert_exporter": "python",
   "pygments_lexer": "ipython3",
   "version": "3.7.1"
  }
 },
 "nbformat": 4,
 "nbformat_minor": 1
}